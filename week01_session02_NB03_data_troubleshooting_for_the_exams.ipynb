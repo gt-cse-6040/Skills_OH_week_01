{
 "cells": [
  {
   "cell_type": "markdown",
   "metadata": {},
   "source": [
    "# Data Troubleshooting on the Exams"
   ]
  },
  {
   "cell_type": "markdown",
   "metadata": {
    "nbgrader": {
     "grade": false,
     "grade_id": "cell-3b25f2b6cfc80b65",
     "locked": true,
     "schema_version": 1,
     "solution": false
    }
   },
   "source": [
    "### This sample notebook is to show you the testing paradigm that you will face on all of the exams.\n",
    "\n",
    "The notebook contains Exercise 0 from Notebook 1, Part 2.\n",
    "\n",
    "What we are going to do is write code that purposely fails the exercise, to show you how to troubleshoot data errors on the exams."
   ]
  },
  {
   "cell_type": "code",
   "execution_count": null,
   "metadata": {},
   "outputs": [],
   "source": [
    "%load_ext autoreload\n",
    "%autoreload 2"
   ]
  },
  {
   "cell_type": "code",
   "execution_count": null,
   "metadata": {},
   "outputs": [],
   "source": [
    "import pickle\n",
    "# with open('resource/asnlib/publicdata/test_cases.pkl', 'rb') as fin:\n",
    "#     cases = pickle.load(fin)\n",
    "with open('test_cases.pkl', 'rb') as fin:\n",
    "    cases = pickle.load(fin)"
   ]
  },
  {
   "cell_type": "markdown",
   "metadata": {
    "nbgrader": {
     "grade": false,
     "grade_id": "cell-f3331b5182117a1f",
     "locked": true,
     "schema_version": 1,
     "solution": false
    }
   },
   "source": [
    "Consider the following dataset of exam grades, organized as a 2-D table and stored in Python as a \"list of lists\" under the variable name, `grades`."
   ]
  },
  {
   "cell_type": "code",
   "execution_count": null,
   "metadata": {
    "nbgrader": {
     "grade": false,
     "grade_id": "cell-9dc72b683a8858c7",
     "locked": true,
     "schema_version": 1,
     "solution": false
    }
   },
   "outputs": [],
   "source": [
    "grades = [\n",
    "    # First line is descriptive header. Subsequent lines hold data\n",
    "    ['Student', 'Exam 1', 'Exam 2', 'Exam 3'],\n",
    "    ['Thorny', '100', '90', '80'],\n",
    "    ['Mac', '88', '99', '111'],\n",
    "    ['Farva', '45', '56', '67'],\n",
    "    ['Rabbit', '59', '61', '67'],\n",
    "    ['Ursula', '73', '79', '83'],\n",
    "    ['Foster', '89', '97', '101']\n",
    "]\n",
    "\n",
    "grades"
   ]
  },
  {
   "cell_type": "markdown",
   "metadata": {
    "nbgrader": {
     "grade": false,
     "grade_id": "cell-04082681e80572d5",
     "locked": true,
     "schema_version": 1,
     "solution": false
    }
   },
   "source": [
    "**Exercise 0** (`students_test`: 1 point). Complete the function `get_students` which takes a nested list `grades` as a parameter and reutrns a new list, `students`, which holds the names of the students as they from \"top to bottom\" in the table. \n",
    "- **Note**: the parameter `grades` will be similar to the table above in structure, but the data will be different."
   ]
  },
  {
   "cell_type": "code",
   "execution_count": null,
   "metadata": {
    "nbgrader": {
     "grade": false,
     "grade_id": "students",
     "locked": false,
     "schema_version": 1,
     "solution": true
    }
   },
   "outputs": [],
   "source": [
    "def get_students(grades):\n",
    "    ###\n",
    "    ### YOUR CODE HERE\n",
    "    ###\n",
    "    \n",
    "    # Larry's code below\n",
    "    students = []\n",
    "\n",
    "    for i in grades:\n",
    "        if i[0] != 'Student':   #correct code\n",
    "#         if i[0] == 'Student':   #incorrect code, for illustration\n",
    "            students.append(i[0])\n",
    "    return students\n",
    "    "
   ]
  },
  {
   "cell_type": "markdown",
   "metadata": {},
   "source": [
    "#### Note the demo cell below. This is designed to give you some sample data, to help you to get your code up and running. You will see these for every exercise on all of the exams."
   ]
  },
  {
   "cell_type": "markdown",
   "metadata": {
    "nbgrader": {
     "grade": false,
     "locked": true,
     "solution": false
    }
   },
   "source": [
    "The demo cell below should display `['Thorny', 'Mac', 'Farva', 'Rabbit', 'Ursula', 'Foster']`."
   ]
  },
  {
   "cell_type": "code",
   "execution_count": null,
   "metadata": {
    "nbgrader": {
     "grade": false,
     "locked": true,
     "solution": false
    }
   },
   "outputs": [],
   "source": [
    "students = get_students(grades)\n",
    "students"
   ]
  },
  {
   "cell_type": "markdown",
   "metadata": {},
   "source": [
    "#### Note that I can pass the demo cell and still fail the test cell!!!\n",
    "\n",
    "This will be ONE OF THE BIGGEST PROBLEMS for students on the exams.\n",
    "\n",
    "Students think that, because they passed the DEMO CELL, it means that they WILL ALSO pass the TEST CELL.\n",
    "\n",
    "This IS NOT the case, as the DEMO CELL is designed to give you some SAMPLE DATA, to help you get your code up and running."
   ]
  },
  {
   "cell_type": "markdown",
   "metadata": {},
   "source": [
    "## The DEMO CELL IS NOT a full test of your code, and you can easily pass the DEMO CELL and FAIL the TEST CELL!!! \n",
    "\n",
    "## The TEST CELL is a FULL TEST of your code, and it is much more extensive than the DEMO CELL.\n",
    "\n",
    "## So be aware that you can pass the DEMO CELL and still fail the TEST CELL."
   ]
  },
  {
   "cell_type": "markdown",
   "metadata": {
    "nbgrader": {
     "grade": false,
     "locked": true,
     "solution": false
    }
   },
   "source": [
    "The test cell below will check your solution against several randomly generated test cases. If your solution does not pass the test (or if you're just curious), you can look at the variables used in the latest test run. They are automatically imported for you as part of the test.\n",
    "\n",
    "- `input_vars` - Dictionary containing all of the inputs to your function. Keys are the parameter names.\n",
    "- `original_input_vars` - Dictionary containing a copy of all the inputs to your function. This is useful for debugging failures related to your solution modifying the input. Keys are the parameter names.\n",
    "- `returned_output_vars` - Dictionary containing the outputs your function generated. If there are multiple outputs, the keys will match the names mentioned in the exercrise instructions.\n",
    "- `true_output_vars` - Dictionary containing the outputs your function **should have** generated. If there are multiple outputs, the keys will match the names mentioned in the exercrise instructions.\n",
    "\n",
    "All of the test cells in this notebook will use the same format, and you can expect a similar format on your exams as well."
   ]
  },
  {
   "cell_type": "code",
   "execution_count": null,
   "metadata": {
    "nbgrader": {
     "grade": true,
     "grade_id": "students_test",
     "locked": true,
     "points": "1",
     "solution": false
    }
   },
   "outputs": [],
   "source": [
    "# `students_test`: Test cell\n",
    "import nb_1_2_tester\n",
    "tester = nb_1_2_tester.Tester_1_2_0()\n",
    "for _ in range(20):\n",
    "    try:\n",
    "        tester.run_test(get_students)\n",
    "        (input_vars, original_input_vars, returned_output_vars, true_output_vars) = tester.get_test_vars()\n",
    "    except:\n",
    "        (input_vars, original_input_vars, returned_output_vars, true_output_vars) = tester.get_test_vars()\n",
    "        raise\n",
    "print('Passed. Please submit!')"
   ]
  },
  {
   "cell_type": "markdown",
   "metadata": {},
   "source": [
    "#### So we have run through and passed the test, now let's deliberately fail, and be forced to troubleshoot."
   ]
  },
  {
   "cell_type": "code",
   "execution_count": null,
   "metadata": {},
   "outputs": [],
   "source": [
    "def get_students(grades):\n",
    "    ###\n",
    "    ### YOUR CODE HERE\n",
    "    ###\n",
    "    \n",
    "    # Larry's code below\n",
    "    students = []\n",
    "\n",
    "    for i in grades:\n",
    "#         if i[0] != 'Student':   #correct code\n",
    "        if i[0] == 'Student':   #incorrect code, for illustration\n",
    "            students.append(i[0])\n",
    "    return students"
   ]
  },
  {
   "cell_type": "code",
   "execution_count": null,
   "metadata": {},
   "outputs": [],
   "source": [
    "students = get_students(grades)\n",
    "students"
   ]
  },
  {
   "cell_type": "markdown",
   "metadata": {},
   "source": [
    "The test cell below will check your solution against several randomly generated test cases. If your solution does not pass the test (or if you're just curious), you can look at the variables used in the latest test run. They are automatically imported for you as part of the test.\n",
    "\n",
    "- `input_vars` - Dictionary containing all of the inputs to your function. Keys are the parameter names.\n",
    "- `original_input_vars` - Dictionary containing a copy of all the inputs to your function. This is useful for debugging failures related to your solution modifying the input. Keys are the parameter names.\n",
    "- `returned_output_vars` - Dictionary containing the outputs your function generated. If there are multiple outputs, the keys will match the names mentioned in the exercrise instructions.\n",
    "- `true_output_vars` - Dictionary containing the outputs your function **should have** generated. If there are multiple outputs, the keys will match the names mentioned in the exercrise instructions.\n",
    "\n",
    "All of the test cells in this notebook will use the same format, and you can expect a similar format on your exams as well."
   ]
  },
  {
   "cell_type": "code",
   "execution_count": null,
   "metadata": {},
   "outputs": [],
   "source": [
    "# `students_test`: Test cell\n",
    "import nb_1_2_tester\n",
    "tester = nb_1_2_tester.Tester_1_2_0()\n",
    "for _ in range(20):\n",
    "    try:\n",
    "        tester.run_test(get_students)\n",
    "        (input_vars, original_input_vars, returned_output_vars, true_output_vars) = tester.get_test_vars()\n",
    "    except:\n",
    "        (input_vars, original_input_vars, returned_output_vars, true_output_vars) = tester.get_test_vars()\n",
    "        raise\n",
    "print('Passed. Please submit!')"
   ]
  },
  {
   "cell_type": "markdown",
   "metadata": {},
   "source": [
    "So we have failed the exercise, and we can see from the AssertionError that our data is in correct. \n",
    "\n",
    "What do we do now?\n",
    "\n",
    "#### Let's look at our sample troubleshooting notebook."
   ]
  },
  {
   "cell_type": "code",
   "execution_count": null,
   "metadata": {},
   "outputs": [],
   "source": []
  }
 ],
 "metadata": {
  "celltoolbar": "Create Assignment",
  "kernel_info": {
   "name": "python3"
  },
  "kernelspec": {
   "display_name": "Python 3 (ipykernel)",
   "language": "python",
   "name": "python3"
  },
  "language_info": {
   "codemirror_mode": {
    "name": "ipython",
    "version": 3
   },
   "file_extension": ".py",
   "mimetype": "text/x-python",
   "name": "python",
   "nbconvert_exporter": "python",
   "pygments_lexer": "ipython3",
   "version": "3.9.13"
  },
  "nteract": {
   "version": "0.15.0"
  }
 },
 "nbformat": 4,
 "nbformat_minor": 1
}
